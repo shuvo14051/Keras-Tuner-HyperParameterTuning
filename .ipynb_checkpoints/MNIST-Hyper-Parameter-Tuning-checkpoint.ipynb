{
 "cells": [
  {
   "cell_type": "code",
   "execution_count": 1,
   "id": "3dc2f8d1",
   "metadata": {},
   "outputs": [],
   "source": [
    "import numpy as np \n",
    "import pandas as pd \n",
    "import matplotlib.pyplot as plt\n",
    "import seaborn as sns\n",
    "import numpy as np\n",
    "import pandas as pd \n",
    "from sklearn.preprocessing import MinMaxScaler\n",
    "from sklearn.preprocessing import LabelEncoder\n",
    "import matplotlib.pyplot as plt\n",
    "import seaborn as sns\n",
    "from tensorflow.keras.models import Sequential\n",
    "from tensorflow.keras.layers import Dense,Dropout,Flatten, Conv2D, MaxPool2D\n",
    "from tensorflow.keras.optimizers import Adam\n",
    "from keras_tuner.tuners import RandomSearch\n",
    "import os\n",
    "import warnings\n",
    "warnings.filterwarnings('ignore')"
   ]
  },
  {
   "cell_type": "code",
   "execution_count": 2,
   "id": "c7ffde18",
   "metadata": {},
   "outputs": [],
   "source": [
    "from tensorflow.keras.datasets import mnist\n",
    "(X_train, y_train), (X_test, y_test) = mnist.load_data()"
   ]
  },
  {
   "cell_type": "code",
   "execution_count": 3,
   "id": "4c67628f",
   "metadata": {},
   "outputs": [
    {
     "name": "stdout",
     "output_type": "stream",
     "text": [
      "Shape of X_train: (60000, 28, 28)\n",
      "Shape of y_train: (60000,)\n",
      "Shape of X_test: (10000, 28, 28)\n",
      "Shape of y_test: (10000,)\n"
     ]
    }
   ],
   "source": [
    "print(\"Shape of X_train:\",X_train.shape)\n",
    "print(\"Shape of y_train:\",y_train.shape)\n",
    "print(\"Shape of X_test:\",X_test.shape)\n",
    "print(\"Shape of y_test:\",y_test.shape)"
   ]
  },
  {
   "cell_type": "code",
   "execution_count": 4,
   "id": "fe8351bb",
   "metadata": {},
   "outputs": [
    {
     "data": {
      "text/plain": [
       "(28, 28)"
      ]
     },
     "execution_count": 4,
     "metadata": {},
     "output_type": "execute_result"
    }
   ],
   "source": [
    "single_image = X_train[0]\n",
    "single_image.shape"
   ]
  },
  {
   "cell_type": "code",
   "execution_count": 5,
   "id": "d2e7f1de",
   "metadata": {},
   "outputs": [
    {
     "data": {
      "text/plain": [
       "<matplotlib.image.AxesImage at 0x23af5d7c460>"
      ]
     },
     "execution_count": 5,
     "metadata": {},
     "output_type": "execute_result"
    },
    {
     "data": {
      "image/png": "[encoded data removed]",
      "text/plain": [
       "<Figure size 640x480 with 1 Axes>"
      ]
     },
     "metadata": {},
     "output_type": "display_data"
    }
   ],
   "source": [
    "plt.imshow(single_image,cmap='gray')"
   ]
  },
  {
   "cell_type": "code",
   "execution_count": 6,
   "id": "9f99d823",
   "metadata": {},
   "outputs": [
    {
     "data": {
      "text/plain": [
       "array([5, 0, 4, ..., 5, 6, 8], dtype=uint8)"
      ]
     },
     "execution_count": 6,
     "metadata": {},
     "output_type": "execute_result"
    }
   ],
   "source": [
    "y_train"
   ]
  },
  {
   "cell_type": "code",
   "execution_count": 7,
   "id": "268c8ff5",
   "metadata": {},
   "outputs": [
    {
     "data": {
      "text/plain": [
       "array([0., 0., 0., 0., 0., 1., 0., 0., 0., 0.], dtype=float32)"
      ]
     },
     "execution_count": 7,
     "metadata": {},
     "output_type": "execute_result"
    }
   ],
   "source": [
    "from tensorflow.keras.utils import to_categorical\n",
    "y_train = to_categorical(y_train)\n",
    "y_train[0]"
   ]
  },
  {
   "cell_type": "code",
   "execution_count": 8,
   "id": "0d514299",
   "metadata": {},
   "outputs": [
    {
     "data": {
      "text/plain": [
       "array([0., 0., 0., 0., 0., 0., 0., 1., 0., 0.], dtype=float32)"
      ]
     },
     "execution_count": 8,
     "metadata": {},
     "output_type": "execute_result"
    }
   ],
   "source": [
    "y_test = to_categorical(y_test)\n",
    "y_test[0]"
   ]
  },
  {
   "cell_type": "code",
   "execution_count": 9,
   "id": "e81f9175",
   "metadata": {},
   "outputs": [],
   "source": [
    "X_train = X_train/255\n",
    "X_test = X_test/255"
   ]
  },
  {
   "cell_type": "code",
   "execution_count": 10,
   "id": "bcc4561f",
   "metadata": {},
   "outputs": [
    {
     "data": {
      "text/plain": [
       "(60000, 28, 28)"
      ]
     },
     "execution_count": 10,
     "metadata": {},
     "output_type": "execute_result"
    }
   ],
   "source": [
    "X_train.shape"
   ]
  },
  {
   "cell_type": "code",
   "execution_count": 11,
   "id": "328b3596",
   "metadata": {},
   "outputs": [],
   "source": [
    "# need to add the color channel. That's why need the reshaping\n",
    "# samples, height, width, channel\n",
    "X_train = X_train.reshape(60000,28,28,1)"
   ]
  },
  {
   "cell_type": "code",
   "execution_count": 12,
   "id": "d9846963",
   "metadata": {},
   "outputs": [],
   "source": [
    "X_test = X_test.reshape(10000,28,28,1)"
   ]
  },
  {
   "cell_type": "code",
   "execution_count": 13,
   "id": "f057eb0b",
   "metadata": {},
   "outputs": [],
   "source": [
    "def build_model(hp):\n",
    "    model = Sequential()\n",
    "    model.add(Conv2D(filters=hp.Int('filter_l1',min_value=32, max_value=128, step=16), \n",
    "                     kernel_size = hp.Choice('kernel_l1', values=[3,5]), \n",
    "                     strides=(1,1), \n",
    "                     padding='same',\n",
    "                     input_shape=(28,28,1), \n",
    "                     activation=hp.Choice('activation_l1',['relu','sigmoid'])))\n",
    "    \n",
    "    model.add(MaxPool2D(pool_size=(2,2)))\n",
    "    \n",
    "    model.add(Flatten())\n",
    "    \n",
    "    model.add(Dense(units = hp.Int('units', min_value=8, max_value=64, step=8),\n",
    "                    activation=hp.Choice('activation_l2',['relu','sigmoid'])))\n",
    "\n",
    "    #output - Multiclass classification problem\n",
    "    model.add(Dense(10, activation='softmax'))\n",
    "    learning_rate = hp.Float(\"lr\", min_value=1e-4, max_value=1e-2, sampling=\"log\")\n",
    "    model.compile(loss='categorical_crossentropy', \n",
    "                  optimizer=Adam(hp.Choice('learning_rate', values=[1e-2, 1e-3])), \n",
    "                  metrics=['accuracy'])\n",
    "    \n",
    "    return model"
   ]
  },
  {
   "cell_type": "code",
   "execution_count": 14,
   "id": "73b25cc6",
   "metadata": {},
   "outputs": [],
   "source": [
    "tuner = RandomSearch(\n",
    "    build_model,\n",
    "    objective='val_loss',\n",
    "    max_trials=5)"
   ]
  },
  {
   "cell_type": "code",
   "execution_count": 16,
   "id": "ab1c4250",
   "metadata": {},
   "outputs": [],
   "source": [
    "tuner.search(X_train, y_train,\n",
    "             epochs= 5,\n",
    "             validation_data=(X_test, y_test))"
   ]
  },
  {
   "cell_type": "code",
   "execution_count": 16,
   "id": "d8fa7af3",
   "metadata": {},
   "outputs": [],
   "source": [
    "model=tuner.get_best_models(num_models=1)[0]"
   ]
  },
  {
   "cell_type": "code",
   "execution_count": 18,
   "id": "acc9c7a3",
   "metadata": {},
   "outputs": [
    {
     "name": "stdout",
     "output_type": "stream",
     "text": [
      "Epoch 1/20\n",
      "1875/1875 [==============================] - 34s 18ms/step - loss: 0.0628 - accuracy: 0.9805 - val_loss: 0.0661 - val_accuracy: 0.9800\n",
      "Epoch 2/20\n",
      "1875/1875 [==============================] - 36s 19ms/step - loss: 0.0597 - accuracy: 0.9813 - val_loss: 0.0708 - val_accuracy: 0.9781\n",
      "Epoch 3/20\n",
      "1875/1875 [==============================] - 39s 21ms/step - loss: 0.0581 - accuracy: 0.9819 - val_loss: 0.0912 - val_accuracy: 0.9736\n",
      "Epoch 4/20\n",
      "1875/1875 [==============================] - 39s 21ms/step - loss: 0.0559 - accuracy: 0.9828 - val_loss: 0.0605 - val_accuracy: 0.9810\n",
      "Epoch 5/20\n",
      "1875/1875 [==============================] - 36s 19ms/step - loss: 0.0552 - accuracy: 0.9832 - val_loss: 0.0942 - val_accuracy: 0.9729\n",
      "Epoch 6/20\n",
      "1875/1875 [==============================] - 39s 21ms/step - loss: 0.0554 - accuracy: 0.9827 - val_loss: 0.0704 - val_accuracy: 0.9789\n",
      "Epoch 7/20\n",
      "1875/1875 [==============================] - 39s 21ms/step - loss: 0.0532 - accuracy: 0.9834 - val_loss: 0.0701 - val_accuracy: 0.9801\n",
      "Epoch 8/20\n",
      "1875/1875 [==============================] - 37s 20ms/step - loss: 0.0531 - accuracy: 0.9842 - val_loss: 0.0713 - val_accuracy: 0.9791\n",
      "Epoch 9/20\n",
      "1875/1875 [==============================] - 39s 21ms/step - loss: 0.0529 - accuracy: 0.9831 - val_loss: 0.0722 - val_accuracy: 0.9791\n",
      "Epoch 10/20\n",
      "1875/1875 [==============================] - 37s 20ms/step - loss: 0.0495 - accuracy: 0.9840 - val_loss: 0.0807 - val_accuracy: 0.9778\n",
      "Epoch 11/20\n",
      "1875/1875 [==============================] - 41s 22ms/step - loss: 0.0528 - accuracy: 0.9836 - val_loss: 0.0720 - val_accuracy: 0.9792\n",
      "Epoch 12/20\n",
      "1875/1875 [==============================] - 43s 23ms/step - loss: 0.0474 - accuracy: 0.9855 - val_loss: 0.0722 - val_accuracy: 0.9805\n",
      "Epoch 13/20\n",
      "1875/1875 [==============================] - 41s 22ms/step - loss: 0.0541 - accuracy: 0.9831 - val_loss: 0.0784 - val_accuracy: 0.9763\n",
      "Epoch 14/20\n",
      "1875/1875 [==============================] - 38s 20ms/step - loss: 0.0506 - accuracy: 0.9843 - val_loss: 0.0649 - val_accuracy: 0.9810\n",
      "Epoch 15/20\n",
      "1875/1875 [==============================] - 40s 21ms/step - loss: 0.0517 - accuracy: 0.9837 - val_loss: 0.0750 - val_accuracy: 0.9790\n",
      "Epoch 16/20\n",
      "1875/1875 [==============================] - 36s 19ms/step - loss: 0.0484 - accuracy: 0.9848 - val_loss: 0.0920 - val_accuracy: 0.9749\n",
      "Epoch 17/20\n",
      "1875/1875 [==============================] - 36s 19ms/step - loss: 0.0528 - accuracy: 0.9834 - val_loss: 0.0737 - val_accuracy: 0.9787\n",
      "Epoch 18/20\n",
      "1875/1875 [==============================] - 45s 24ms/step - loss: 0.0510 - accuracy: 0.9841 - val_loss: 0.0718 - val_accuracy: 0.9799\n",
      "Epoch 19/20\n",
      "1875/1875 [==============================] - 41s 22ms/step - loss: 0.0475 - accuracy: 0.9850 - val_loss: 0.0755 - val_accuracy: 0.9794\n",
      "Epoch 20/20\n",
      "1875/1875 [==============================] - 41s 22ms/step - loss: 0.0506 - accuracy: 0.9843 - val_loss: 0.0830 - val_accuracy: 0.9775\n"
     ]
    }
   ],
   "source": [
    "history = model.fit(X_train,y_train, epochs=20, validation_data=(X_test,y_test))"
   ]
  },
  {
   "cell_type": "code",
   "execution_count": null,
   "id": "8edf3a9b",
   "metadata": {},
   "outputs": [],
   "source": []
  }
 ],
 "metadata": {
  "kernelspec": {
   "display_name": "Python 3 (ipykernel)",
   "language": "python",
   "name": "python3"
  },
  "language_info": {
   "codemirror_mode": {
    "name": "ipython",
    "version": 3
   },
   "file_extension": ".py",
   "mimetype": "text/x-python",
   "name": "python",
   "nbconvert_exporter": "python",
   "pygments_lexer": "ipython3",
   "version": "3.9.6"
  }
 },
 "nbformat": 4,
 "nbformat_minor": 5
}
